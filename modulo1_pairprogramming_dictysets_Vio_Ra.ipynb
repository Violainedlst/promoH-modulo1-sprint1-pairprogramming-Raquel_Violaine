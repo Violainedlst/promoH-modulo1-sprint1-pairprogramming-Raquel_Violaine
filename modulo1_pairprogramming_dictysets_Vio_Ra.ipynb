{
 "cells": [
  {
   "cell_type": "code",
   "execution_count": 27,
   "metadata": {},
   "outputs": [
    {
     "name": "stdout",
     "output_type": "stream",
     "text": [
      "{}\n"
     ]
    }
   ],
   "source": [
    "\n",
    "#EJERCICIOS DICCIONARIOS\n",
    "#1\n",
    "diccionario_vacio = {}\n",
    "print(diccionario_vacio)"
   ]
  },
  {
   "cell_type": "code",
   "execution_count": 28,
   "metadata": {},
   "outputs": [
    {
     "name": "stdout",
     "output_type": "stream",
     "text": [
      "{'parte_arriba': 'chaqueta', 'parte_abajo': 'pantalon', 'parte_medio': 'braguitas', 'calzado': 'deportivas', 'parte_cabeza': 'gorro'}\n"
     ]
    }
   ],
   "source": [
    "#2\n",
    "diccionario_2 = {\"parte_arriba\": \"chaqueta\", \n",
    "                 \"parte_abajo\": \"pantalon\", \"parte_medio\":\"braguitas\", \n",
    "                 \"calzado\": \"deportivas\", \"parte_cabeza\":\"gorro\"}\n",
    "print(diccionario_2)"
   ]
  },
  {
   "cell_type": "code",
   "execution_count": 29,
   "metadata": {},
   "outputs": [],
   "source": [
    "#3\n",
    "diccionario_2.get(input())\n"
   ]
  },
  {
   "cell_type": "code",
   "execution_count": 30,
   "metadata": {},
   "outputs": [
    {
     "name": "stdout",
     "output_type": "stream",
     "text": [
      "{'parte_arriba': 'chaqueta', 'parte_abajo': 'pantalon', 'parte_medio': 'braguitas', 'calzado': 'deportivas', 'parte_cabeza': 'gorro', 'complemento': 'bolso'}\n"
     ]
    }
   ],
   "source": [
    "#4\n",
    "nueva_ropa = {\"complemento\":\"bolso\"}\n",
    "diccionario_2.update(nueva_ropa)\n",
    "print(diccionario_2)"
   ]
  },
  {
   "cell_type": "code",
   "execution_count": 31,
   "metadata": {},
   "outputs": [
    {
     "name": "stdout",
     "output_type": "stream",
     "text": [
      "{'parte_arriba': 'chaqueta', 'parte_abajo': 'pantalon', 'parte_medio': 'braguitas', 'calzado': 'zapatillas', 'parte_cabeza': 'gorro', 'complemento': 'bolso'}\n"
     ]
    }
   ],
   "source": [
    "#5\n",
    "diccionario_2[\"calzado\"] = \"zapatillas\"\n",
    "print(diccionario_2)"
   ]
  },
  {
   "cell_type": "code",
   "execution_count": 32,
   "metadata": {},
   "outputs": [
    {
     "ename": "KeyError",
     "evalue": "'guay'",
     "output_type": "error",
     "traceback": [
      "\u001b[1;31m---------------------------------------------------------------------------\u001b[0m",
      "\u001b[1;31mKeyError\u001b[0m                                  Traceback (most recent call last)",
      "Cell \u001b[1;32mIn[32], line 3\u001b[0m\n\u001b[0;32m      1\u001b[0m \u001b[38;5;66;03m#6\u001b[39;00m\n\u001b[0;32m      2\u001b[0m elimina_par \u001b[38;5;241m=\u001b[39m \u001b[38;5;28minput\u001b[39m(\u001b[38;5;124m\"\u001b[39m\u001b[38;5;124m¿qué quieres eliminar?\u001b[39m\u001b[38;5;124m\"\u001b[39m)\n\u001b[1;32m----> 3\u001b[0m \u001b[43mdiccionario_2\u001b[49m\u001b[38;5;241;43m.\u001b[39;49m\u001b[43mpop\u001b[49m\u001b[43m(\u001b[49m\u001b[43melimina_par\u001b[49m\u001b[43m)\u001b[49m\n\u001b[0;32m      4\u001b[0m \u001b[38;5;28mprint\u001b[39m(diccionario_2)\n",
      "\u001b[1;31mKeyError\u001b[0m: 'guay'"
     ]
    }
   ],
   "source": [
    "#6\n",
    "elimina_par = input(\"¿qué quieres eliminar?\")\n",
    "diccionario_2.pop(elimina_par)\n",
    "print(diccionario_2)\n"
   ]
  },
  {
   "cell_type": "code",
   "execution_count": 33,
   "metadata": {},
   "outputs": [
    {
     "name": "stdout",
     "output_type": "stream",
     "text": [
      "True\n"
     ]
    }
   ],
   "source": [
    "#7\n",
    "\n",
    "print(input() in diccionario_2)"
   ]
  },
  {
   "cell_type": "code",
   "execution_count": 34,
   "metadata": {},
   "outputs": [
    {
     "name": "stdout",
     "output_type": "stream",
     "text": [
      "dict_keys(['parte_arriba', 'parte_abajo', 'parte_medio', 'calzado', 'parte_cabeza', 'complemento'])\n"
     ]
    }
   ],
   "source": [
    "#8\n",
    "print(diccionario_2.keys())"
   ]
  },
  {
   "cell_type": "code",
   "execution_count": 35,
   "metadata": {},
   "outputs": [
    {
     "name": "stdout",
     "output_type": "stream",
     "text": [
      "dict_values(['chaqueta', 'pantalon', 'braguitas', 'zapatillas', 'gorro', 'bolso'])\n"
     ]
    }
   ],
   "source": [
    "#9\n",
    "print(diccionario_2.values())"
   ]
  },
  {
   "cell_type": "code",
   "execution_count": 36,
   "metadata": {},
   "outputs": [
    {
     "name": "stdout",
     "output_type": "stream",
     "text": [
      "{'parte_arriba': 'chaqueta', 'parte_abajo': 'pantalon', 'parte_medio': 'braguitas', 'calzado': 'zapatillas', 'parte_cabeza': 'gorro', 'complemento': 'bolso', 'parte_cuello': 'pañuelo'}\n"
     ]
    }
   ],
   "source": [
    "#10\n",
    "diccionario_2.setdefault(\"parte_cuello\", \"pañuelo\")\n",
    "print(diccionario_2)\n"
   ]
  },
  {
   "cell_type": "code",
   "execution_count": null,
   "metadata": {},
   "outputs": [],
   "source": [
    "#11\n"
   ]
  },
  {
   "cell_type": "code",
   "execution_count": 37,
   "metadata": {},
   "outputs": [
    {
     "name": "stdout",
     "output_type": "stream",
     "text": [
      "set()\n"
     ]
    }
   ],
   "source": [
    "#EJERCICIOS SETS\n",
    "#1\n",
    "conjunto_vacío = set()\n",
    "print(conjunto_vacío)"
   ]
  },
  {
   "cell_type": "code",
   "execution_count": 38,
   "metadata": {},
   "outputs": [
    {
     "name": "stdout",
     "output_type": "stream",
     "text": [
      "{'lampara', 'cuaderno', 'lápiz', 'boligrafo', 'subrayador'}\n"
     ]
    }
   ],
   "source": [
    "#2\n",
    "conjunto_lleno = {\"lampara\", \"cuaderno\",\"boligrafo\",\"subrayador\",\"lápiz\"}\n",
    "print(conjunto_lleno)"
   ]
  },
  {
   "cell_type": "code",
   "execution_count": 44,
   "metadata": {},
   "outputs": [
    {
     "name": "stdout",
     "output_type": "stream",
     "text": [
      "{'cascos', 'lampara', 'cuaderno', 'tippex', 'lápiz', 'boligrafo', 'subrayador', 'tijeras'}\n",
      "{'tippex', 'boligrafo', 'tijeras', 'lampara', 'cuaderno', 'subrayador', 'lápiz', 'cascos'}\n"
     ]
    }
   ],
   "source": [
    "#3\n",
    "conjunto_lleno.add(\"cascos\")\n",
    "print(conjunto_lleno)\n",
    "\n",
    "conjunto_lleno.update({\"tippex\",\"tijeras\"})\n",
    "print(conjunto_lleno)"
   ]
  },
  {
   "cell_type": "code",
   "execution_count": 51,
   "metadata": {},
   "outputs": [
    {
     "name": "stdout",
     "output_type": "stream",
     "text": [
      "{'boligrafo', 'tijeras', 'lampara', 'cuaderno', 'subrayador', 'lápiz', 'cascos'}\n"
     ]
    }
   ],
   "source": [
    "#4\n",
    "conjunto_lleno.remove(\"tippex\")\n",
    "print(conjunto_lleno)"
   ]
  },
  {
   "cell_type": "markdown",
   "metadata": {},
   "source": []
  }
 ],
 "metadata": {
  "kernelspec": {
   "display_name": "Python 3",
   "language": "python",
   "name": "python3"
  },
  "language_info": {
   "codemirror_mode": {
    "name": "ipython",
    "version": 3
   },
   "file_extension": ".py",
   "mimetype": "text/x-python",
   "name": "python",
   "nbconvert_exporter": "python",
   "pygments_lexer": "ipython3",
   "version": "3.12.2"
  }
 },
 "nbformat": 4,
 "nbformat_minor": 2
}
